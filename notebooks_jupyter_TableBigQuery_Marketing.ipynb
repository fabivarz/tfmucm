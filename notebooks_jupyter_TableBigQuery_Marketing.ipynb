{
 "cells": [
  {
   "cell_type": "code",
   "execution_count": 14,
   "metadata": {},
   "outputs": [
    {
     "name": "stdout",
     "output_type": "stream",
     "text": [
      "Loaded 2240 rows.\n"
     ]
    }
   ],
   "source": [
    "from google.cloud import bigquery\n",
    "import fileinput\n",
    "\n",
    "# Construccion del objeto a bigquery.\n",
    "client = bigquery.Client()\n",
    "\n",
    "table_id = \"industrial-keep-360521.marketing.visacampaing\"\n",
    "\n",
    "       \n",
    "job_config = bigquery.LoadJobConfig(\n",
    "    schema=[\n",
    "        bigquery.SchemaField(\"ID\", \"STRING\", mode=\"REQUIRED\"),\n",
    "        bigquery.SchemaField(\"Year_Birth\", \"STRING\", mode=\"Nullable\"),\n",
    "        bigquery.SchemaField(\"Education\", \"STRING\", mode=\"Nullable\"),\n",
    "        bigquery.SchemaField(\"Marital_Status\", \"STRING\", mode=\"Nullable\"),\n",
    "        bigquery.SchemaField(\"Income\", \"STRING\", mode=\"Nullable\"),\n",
    "        bigquery.SchemaField(\"Kidhome\", \"STRING\", mode=\"Nullable\"),\n",
    "        bigquery.SchemaField(\"Teenhome\", \"STRING\", mode=\"Nullable\"),\n",
    "        bigquery.SchemaField(\"Dt_Customer\", \"STRING\", mode=\"Nullable\"),\n",
    "        bigquery.SchemaField(\"Recency\", \"STRING\", mode=\"Nullable\"),\n",
    "        bigquery.SchemaField(\"MntWines\", \"STRING\", mode=\"Nullable\"),\n",
    "        bigquery.SchemaField(\"MntFruits\", \"STRING\", mode=\"Nullable\"),\n",
    "        bigquery.SchemaField(\"MntMeatProducts\", \"STRING\", mode=\"Nullable\"),\n",
    "        bigquery.SchemaField(\"MntFishProducts\", \"STRING\", mode=\"Nullable\"),\n",
    "        bigquery.SchemaField(\"MntSweetProducts\", \"STRING\", mode=\"Nullable\"),\n",
    "        bigquery.SchemaField(\"MntGoldProds\", \"STRING\", mode=\"Nullable\"),\n",
    "        bigquery.SchemaField(\"NumDealsPurchases\", \"STRING\", mode=\"Nullable\"),\n",
    "        bigquery.SchemaField(\"NumWebPurchases\", \"STRING\", mode=\"Nullable\"),\n",
    "        bigquery.SchemaField(\"NumCatalogPurchases\", \"STRING\", mode=\"Nullable\"),\n",
    "        bigquery.SchemaField(\"NumStorePurchases\", \"STRING\", mode=\"Nullable\"),\n",
    "        bigquery.SchemaField(\"NumWebVisitsMonth\", \"STRING\", mode=\"Nullable\"),\n",
    "        bigquery.SchemaField(\"AcceptedCmp3\", \"STRING\", mode=\"Nullable\"),\n",
    "        bigquery.SchemaField(\"AcceptedCmp4\", \"STRING\", mode=\"Nullable\"),\n",
    "        bigquery.SchemaField(\"AcceptedCmp5\", \"STRING\", mode=\"Nullable\"),\n",
    "        bigquery.SchemaField(\"AcceptedCmp1\", \"STRING\", mode=\"Nullable\"),\n",
    "        bigquery.SchemaField(\"AcceptedCmp2\", \"STRING\", mode=\"Nullable\"),\n",
    "        bigquery.SchemaField(\"Complain\", \"STRING\", mode=\"Nullable\"),\n",
    "        bigquery.SchemaField(\"Z_CostContact\", \"STRING\", mode=\"Nullable\"),\n",
    "        bigquery.SchemaField(\"Z_Revenue\", \"STRING\", mode=\"Nullable\"),\n",
    "        bigquery.SchemaField(\"Response\", \"STRING\", mode=\"Nullable\")\n",
    "    ],\n",
    "    skip_leading_rows=1,\n",
    "    #max_bad_records=10,\n",
    "    allow_jagged_rows=True,\n",
    "    ignore_unknown_values=True,\n",
    "    nullMarker=True,\n",
    "    field_delimiter=\";\",\n",
    "    #Formato de la fuente es opcional:\n",
    "    source_format=bigquery.SourceFormat.CSV,\n",
    ")\n",
    "\n",
    "uri=\"gs://tfm_ucm_bk/data/marketingcampaing.csv\"  \n",
    "\n",
    "load_job = client.load_table_from_uri(\n",
    "    uri, table_id, job_config=job_config\n",
    ")  #Hace un API request.\n",
    "\n",
    "load_job.result()  #Termina trabajo.\n",
    "\n",
    "destination_table = client.get_table(table_id)  # Make an API request.\n",
    "print(\"Loaded {} rows.\".format(destination_table.num_rows))\n"
   ]
  },
  {
   "cell_type": "code",
   "execution_count": null,
   "metadata": {},
   "outputs": [],
   "source": []
  }
 ],
 "metadata": {
  "kernelspec": {
   "display_name": "Python 3",
   "language": "python",
   "name": "python3"
  },
  "language_info": {
   "codemirror_mode": {
    "name": "ipython",
    "version": 3
   },
   "file_extension": ".py",
   "mimetype": "text/x-python",
   "name": "python",
   "nbconvert_exporter": "python",
   "pygments_lexer": "ipython3",
   "version": "3.6.13"
  }
 },
 "nbformat": 4,
 "nbformat_minor": 2
}